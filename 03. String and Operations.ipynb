{
 "cells": [
  {
   "cell_type": "markdown",
   "id": "a8bc7a5a-41d3-45fa-bce6-75c41cc022b7",
   "metadata": {},
   "source": [
    "## String"
   ]
  },
  {
   "cell_type": "code",
   "execution_count": 4,
   "id": "bc7cdfde-754d-41e6-930a-e3f0f1233f7d",
   "metadata": {},
   "outputs": [],
   "source": [
    "var = \"my string\""
   ]
  },
  {
   "cell_type": "code",
   "execution_count": 5,
   "id": "25e11b03-0636-4782-85c7-7e3ee7742f80",
   "metadata": {},
   "outputs": [
    {
     "data": {
      "text/plain": [
       "str"
      ]
     },
     "execution_count": 5,
     "metadata": {},
     "output_type": "execute_result"
    }
   ],
   "source": [
    "type(var)"
   ]
  },
  {
   "cell_type": "code",
   "execution_count": 6,
   "id": "5d81f853-d628-4416-bd54-71058dea5d4c",
   "metadata": {},
   "outputs": [
    {
     "data": {
      "text/plain": [
       "'s'"
      ]
     },
     "execution_count": 6,
     "metadata": {},
     "output_type": "execute_result"
    }
   ],
   "source": [
    "var[3]"
   ]
  },
  {
   "cell_type": "code",
   "execution_count": 7,
   "id": "ac77c865-5d45-4625-8f1c-e8a9c9e96e88",
   "metadata": {},
   "outputs": [
    {
     "data": {
      "text/plain": [
       "'n'"
      ]
     },
     "execution_count": 7,
     "metadata": {},
     "output_type": "execute_result"
    }
   ],
   "source": [
    "var[-2]"
   ]
  },
  {
   "cell_type": "code",
   "execution_count": 8,
   "id": "ffb9e95f-c8e7-4aaf-998c-7dd3dd797456",
   "metadata": {},
   "outputs": [
    {
     "data": {
      "text/plain": [
       "'my string'"
      ]
     },
     "execution_count": 8,
     "metadata": {},
     "output_type": "execute_result"
    }
   ],
   "source": [
    "var[:]"
   ]
  },
  {
   "cell_type": "code",
   "execution_count": 12,
   "id": "82806e25-45a9-4216-be80-ea8fde256c69",
   "metadata": {},
   "outputs": [],
   "source": [
    "var1 = \"this is my first string\""
   ]
  },
  {
   "cell_type": "code",
   "execution_count": 13,
   "id": "ee23426f-e117-4e2b-8b5b-67db86385862",
   "metadata": {},
   "outputs": [
    {
     "data": {
      "text/plain": [
       "'this i'"
      ]
     },
     "execution_count": 13,
     "metadata": {},
     "output_type": "execute_result"
    }
   ],
   "source": [
    "var1[:6]"
   ]
  },
  {
   "cell_type": "code",
   "execution_count": 14,
   "id": "6bee58ed-88f3-4602-9569-82a06589b6c6",
   "metadata": {},
   "outputs": [
    {
     "data": {
      "text/plain": [
       "' is my first string'"
      ]
     },
     "execution_count": 14,
     "metadata": {},
     "output_type": "execute_result"
    }
   ],
   "source": [
    "var1[4:]"
   ]
  },
  {
   "cell_type": "code",
   "execution_count": 15,
   "id": "19218b2a-a420-4559-91c1-c67590073851",
   "metadata": {},
   "outputs": [
    {
     "data": {
      "text/plain": [
       "'is is my firs'"
      ]
     },
     "execution_count": 15,
     "metadata": {},
     "output_type": "execute_result"
    }
   ],
   "source": [
    "var1[2:15]"
   ]
  },
  {
   "cell_type": "code",
   "execution_count": 16,
   "id": "5bf03ef5-ed37-4edb-bff6-4fabf59666a3",
   "metadata": {},
   "outputs": [
    {
     "data": {
      "text/plain": [
       "'i sm is'"
      ]
     },
     "execution_count": 16,
     "metadata": {},
     "output_type": "execute_result"
    }
   ],
   "source": [
    "var1[2:15:2]"
   ]
  },
  {
   "cell_type": "code",
   "execution_count": 18,
   "id": "0a9c9e75-a675-4a69-bc40-ec272ee403c5",
   "metadata": {},
   "outputs": [
    {
     "data": {
      "text/plain": [
       "'s is my first str'"
      ]
     },
     "execution_count": 18,
     "metadata": {},
     "output_type": "execute_result"
    }
   ],
   "source": [
    "var1[-20:-3]"
   ]
  },
  {
   "cell_type": "code",
   "execution_count": 19,
   "id": "30f8f610-279b-4d5f-8771-bc4fab6296d8",
   "metadata": {},
   "outputs": [
    {
     "data": {
      "text/plain": [
       "''"
      ]
     },
     "execution_count": 19,
     "metadata": {},
     "output_type": "execute_result"
    }
   ],
   "source": [
    "var1[-20:-3:-1]"
   ]
  },
  {
   "cell_type": "code",
   "execution_count": 20,
   "id": "c64bff60-04c0-4d59-9d9d-c29895012618",
   "metadata": {},
   "outputs": [
    {
     "data": {
      "text/plain": [
       "'nirts tsrif ym si '"
      ]
     },
     "execution_count": 20,
     "metadata": {},
     "output_type": "execute_result"
    }
   ],
   "source": [
    "var1[-2:-20:-1]"
   ]
  },
  {
   "cell_type": "code",
   "execution_count": 21,
   "id": "51d59044-ed03-4d59-bd20-46cf15b1f2b0",
   "metadata": {},
   "outputs": [
    {
     "data": {
      "text/plain": [
       "'gnirts tsrif ym si siht'"
      ]
     },
     "execution_count": 21,
     "metadata": {},
     "output_type": "execute_result"
    }
   ],
   "source": [
    "var1[::-1]"
   ]
  },
  {
   "cell_type": "code",
   "execution_count": 24,
   "id": "c71b6d92-dfab-4144-8b24-c3e5487bc20c",
   "metadata": {},
   "outputs": [
    {
     "ename": "TypeError",
     "evalue": "'str' object does not support item assignment",
     "output_type": "error",
     "traceback": [
      "\u001b[1;31m---------------------------------------------------------------------------\u001b[0m",
      "\u001b[1;31mTypeError\u001b[0m                                 Traceback (most recent call last)",
      "Cell \u001b[1;32mIn[24], line 1\u001b[0m\n\u001b[1;32m----> 1\u001b[0m var1[\u001b[38;5;241m5\u001b[39m] \u001b[38;5;241m=\u001b[39m \u001b[38;5;124m\"\u001b[39m\u001b[38;5;124mI\u001b[39m\u001b[38;5;124m\"\u001b[39m\n",
      "\u001b[1;31mTypeError\u001b[0m: 'str' object does not support item assignment"
     ]
    }
   ],
   "source": [
    "var1[5] = \"I\""
   ]
  },
  {
   "cell_type": "markdown",
   "id": "5ebdec6d-7f39-4ba8-8001-3e6c08915f1a",
   "metadata": {},
   "source": [
    "### concatenation"
   ]
  },
  {
   "cell_type": "code",
   "execution_count": 26,
   "id": "8aabb883-0d50-4e68-acfa-c998128e4914",
   "metadata": {},
   "outputs": [
    {
     "data": {
      "text/plain": [
       "'my string my string'"
      ]
     },
     "execution_count": 26,
     "metadata": {},
     "output_type": "execute_result"
    }
   ],
   "source": [
    "var + \" \" +var"
   ]
  },
  {
   "cell_type": "code",
   "execution_count": 27,
   "id": "da817fda-ead7-4b1c-89f3-4ff07a83bd7c",
   "metadata": {},
   "outputs": [
    {
     "data": {
      "text/plain": [
       "'my stringmy stringmy string'"
      ]
     },
     "execution_count": 27,
     "metadata": {},
     "output_type": "execute_result"
    }
   ],
   "source": [
    "var*3"
   ]
  },
  {
   "cell_type": "code",
   "execution_count": 28,
   "id": "4742451b-caa5-4cb2-942c-f95e4c365781",
   "metadata": {},
   "outputs": [
    {
     "data": {
      "text/plain": [
       "['__add__',\n",
       " '__class__',\n",
       " '__contains__',\n",
       " '__delattr__',\n",
       " '__dir__',\n",
       " '__doc__',\n",
       " '__eq__',\n",
       " '__format__',\n",
       " '__ge__',\n",
       " '__getattribute__',\n",
       " '__getitem__',\n",
       " '__getnewargs__',\n",
       " '__getstate__',\n",
       " '__gt__',\n",
       " '__hash__',\n",
       " '__init__',\n",
       " '__init_subclass__',\n",
       " '__iter__',\n",
       " '__le__',\n",
       " '__len__',\n",
       " '__lt__',\n",
       " '__mod__',\n",
       " '__mul__',\n",
       " '__ne__',\n",
       " '__new__',\n",
       " '__reduce__',\n",
       " '__reduce_ex__',\n",
       " '__repr__',\n",
       " '__rmod__',\n",
       " '__rmul__',\n",
       " '__setattr__',\n",
       " '__sizeof__',\n",
       " '__str__',\n",
       " '__subclasshook__',\n",
       " 'capitalize',\n",
       " 'casefold',\n",
       " 'center',\n",
       " 'count',\n",
       " 'encode',\n",
       " 'endswith',\n",
       " 'expandtabs',\n",
       " 'find',\n",
       " 'format',\n",
       " 'format_map',\n",
       " 'index',\n",
       " 'isalnum',\n",
       " 'isalpha',\n",
       " 'isascii',\n",
       " 'isdecimal',\n",
       " 'isdigit',\n",
       " 'isidentifier',\n",
       " 'islower',\n",
       " 'isnumeric',\n",
       " 'isprintable',\n",
       " 'isspace',\n",
       " 'istitle',\n",
       " 'isupper',\n",
       " 'join',\n",
       " 'ljust',\n",
       " 'lower',\n",
       " 'lstrip',\n",
       " 'maketrans',\n",
       " 'partition',\n",
       " 'removeprefix',\n",
       " 'removesuffix',\n",
       " 'replace',\n",
       " 'rfind',\n",
       " 'rindex',\n",
       " 'rjust',\n",
       " 'rpartition',\n",
       " 'rsplit',\n",
       " 'rstrip',\n",
       " 'split',\n",
       " 'splitlines',\n",
       " 'startswith',\n",
       " 'strip',\n",
       " 'swapcase',\n",
       " 'title',\n",
       " 'translate',\n",
       " 'upper',\n",
       " 'zfill']"
      ]
     },
     "execution_count": 28,
     "metadata": {},
     "output_type": "execute_result"
    }
   ],
   "source": [
    "dir(str)"
   ]
  },
  {
   "cell_type": "code",
   "execution_count": 31,
   "id": "4273058b-0061-42a2-bbdc-e38a1ae9c497",
   "metadata": {},
   "outputs": [],
   "source": [
    "c = var.upper()"
   ]
  },
  {
   "cell_type": "code",
   "execution_count": 33,
   "id": "9dd99ff0-ecb6-419d-b1e5-36e7623f6993",
   "metadata": {},
   "outputs": [
    {
     "data": {
      "text/plain": [
       "'my string'"
      ]
     },
     "execution_count": 33,
     "metadata": {},
     "output_type": "execute_result"
    }
   ],
   "source": [
    "c.lower()"
   ]
  },
  {
   "cell_type": "code",
   "execution_count": 35,
   "id": "f924c3de-f2d9-474b-83fa-1a1d115f1b1d",
   "metadata": {},
   "outputs": [
    {
     "data": {
      "text/plain": [
       "'My string'"
      ]
     },
     "execution_count": 35,
     "metadata": {},
     "output_type": "execute_result"
    }
   ],
   "source": [
    "c.capitalize()"
   ]
  },
  {
   "cell_type": "code",
   "execution_count": 37,
   "id": "5f20a738-c7aa-458f-916e-9c0b8ce35a0a",
   "metadata": {},
   "outputs": [
    {
     "data": {
      "text/plain": [
       "True"
      ]
     },
     "execution_count": 37,
     "metadata": {},
     "output_type": "execute_result"
    }
   ],
   "source": [
    "var.islower()"
   ]
  },
  {
   "cell_type": "code",
   "execution_count": 38,
   "id": "00ed0815-06ee-4a3b-869c-961da9f72255",
   "metadata": {},
   "outputs": [
    {
     "data": {
      "text/plain": [
       "False"
      ]
     },
     "execution_count": 38,
     "metadata": {},
     "output_type": "execute_result"
    }
   ],
   "source": [
    "var.isupper()"
   ]
  },
  {
   "cell_type": "code",
   "execution_count": 40,
   "id": "3577817f-84cf-4f7e-a8fd-8d52b165872e",
   "metadata": {},
   "outputs": [
    {
     "data": {
      "text/plain": [
       "'My String'"
      ]
     },
     "execution_count": 40,
     "metadata": {},
     "output_type": "execute_result"
    }
   ],
   "source": [
    "var.title()"
   ]
  },
  {
   "cell_type": "code",
   "execution_count": 42,
   "id": "ffb42e8f-896f-49b6-bd6f-0ff792941030",
   "metadata": {},
   "outputs": [
    {
     "data": {
      "text/plain": [
       "'          my string           '"
      ]
     },
     "execution_count": 42,
     "metadata": {},
     "output_type": "execute_result"
    }
   ],
   "source": [
    "var.center(30)"
   ]
  },
  {
   "cell_type": "code",
   "execution_count": 43,
   "id": "ed8be4ef-02ed-411b-a86a-f8e7cb40fe38",
   "metadata": {},
   "outputs": [
    {
     "data": {
      "text/plain": [
       "'my string'"
      ]
     },
     "execution_count": 43,
     "metadata": {},
     "output_type": "execute_result"
    }
   ],
   "source": [
    "var"
   ]
  },
  {
   "cell_type": "code",
   "execution_count": 44,
   "id": "7c03a8a7-5796-4f21-b43b-648bd570d71b",
   "metadata": {},
   "outputs": [
    {
     "data": {
      "text/plain": [
       "1"
      ]
     },
     "execution_count": 44,
     "metadata": {},
     "output_type": "execute_result"
    }
   ],
   "source": [
    "var.count(\"i\")"
   ]
  },
  {
   "cell_type": "code",
   "execution_count": 46,
   "id": "41412121-1d77-4b18-8694-2e86179b7bb3",
   "metadata": {},
   "outputs": [
    {
     "data": {
      "text/plain": [
       "'this is my first string'"
      ]
     },
     "execution_count": 46,
     "metadata": {},
     "output_type": "execute_result"
    }
   ],
   "source": [
    "var1"
   ]
  },
  {
   "cell_type": "code",
   "execution_count": 48,
   "id": "b77db978-70d7-487b-b89e-8b4dab54e7e1",
   "metadata": {},
   "outputs": [
    {
     "data": {
      "text/plain": [
       "0"
      ]
     },
     "execution_count": 48,
     "metadata": {},
     "output_type": "execute_result"
    }
   ],
   "source": [
    "var1.count(\"I\")"
   ]
  },
  {
   "cell_type": "code",
   "execution_count": 49,
   "id": "0c4b359b-7abf-492c-a93b-3e8de93b9505",
   "metadata": {},
   "outputs": [
    {
     "data": {
      "text/plain": [
       "11"
      ]
     },
     "execution_count": 49,
     "metadata": {},
     "output_type": "execute_result"
    }
   ],
   "source": [
    "var1.index(\"f\")"
   ]
  },
  {
   "cell_type": "code",
   "execution_count": 50,
   "id": "8f485c78-fce4-4675-896d-61736c00c254",
   "metadata": {},
   "outputs": [
    {
     "data": {
      "text/plain": [
       "False"
      ]
     },
     "execution_count": 50,
     "metadata": {},
     "output_type": "execute_result"
    }
   ],
   "source": [
    "var1.isalpha()"
   ]
  },
  {
   "cell_type": "code",
   "execution_count": 51,
   "id": "7551e4ad-3750-472a-b53a-0b958b1f34a8",
   "metadata": {},
   "outputs": [
    {
     "data": {
      "text/plain": [
       "False"
      ]
     },
     "execution_count": 51,
     "metadata": {},
     "output_type": "execute_result"
    }
   ],
   "source": [
    "var1.isdecimal()"
   ]
  },
  {
   "cell_type": "code",
   "execution_count": 52,
   "id": "ed0113af-19b6-4cc9-a9e7-d15fc031b493",
   "metadata": {},
   "outputs": [
    {
     "data": {
      "text/plain": [
       "True"
      ]
     },
     "execution_count": 52,
     "metadata": {},
     "output_type": "execute_result"
    }
   ],
   "source": [
    "var1.endswith(\"g\")"
   ]
  },
  {
   "cell_type": "code",
   "execution_count": 54,
   "id": "16ea0721-7851-4b75-8958-1199d8b414e2",
   "metadata": {},
   "outputs": [
    {
     "data": {
      "text/plain": [
       "False"
      ]
     },
     "execution_count": 54,
     "metadata": {},
     "output_type": "execute_result"
    }
   ],
   "source": [
    "var1.startswith(\"T\")"
   ]
  },
  {
   "cell_type": "code",
   "execution_count": 56,
   "id": "78d3f98a-11f5-4c4b-a3d8-e78219593071",
   "metadata": {},
   "outputs": [
    {
     "data": {
      "text/plain": [
       "' is my first string'"
      ]
     },
     "execution_count": 56,
     "metadata": {},
     "output_type": "execute_result"
    }
   ],
   "source": [
    "var1.removeprefix(\"this\")"
   ]
  },
  {
   "cell_type": "code",
   "execution_count": 58,
   "id": "cc95fa80-235e-475e-a530-3f79a06022e5",
   "metadata": {},
   "outputs": [
    {
     "data": {
      "text/plain": [
       "'this is my first '"
      ]
     },
     "execution_count": 58,
     "metadata": {},
     "output_type": "execute_result"
    }
   ],
   "source": [
    "var1.removesuffix(\"string\")"
   ]
  },
  {
   "cell_type": "code",
   "execution_count": 60,
   "id": "0813cfbb-d3e2-4a06-839a-a679af05706e",
   "metadata": {},
   "outputs": [
    {
     "data": {
      "text/plain": [
       "2"
      ]
     },
     "execution_count": 60,
     "metadata": {},
     "output_type": "execute_result"
    }
   ],
   "source": [
    "var1.find(\"i\")"
   ]
  },
  {
   "cell_type": "code",
   "execution_count": 64,
   "id": "cb9025c3-13a1-46bd-99b5-30dab36874ea",
   "metadata": {},
   "outputs": [
    {
     "data": {
      "text/plain": [
       "'this is my first string'"
      ]
     },
     "execution_count": 64,
     "metadata": {},
     "output_type": "execute_result"
    }
   ],
   "source": [
    "var1.ljust(3)"
   ]
  },
  {
   "cell_type": "code",
   "execution_count": 66,
   "id": "31e6f26d-3740-4f7f-9c07-30494a6c6835",
   "metadata": {},
   "outputs": [],
   "source": [
    "var2 = \"    python\""
   ]
  },
  {
   "cell_type": "code",
   "execution_count": 73,
   "id": "ec891670-f31b-45b0-ba07-67aa39492173",
   "metadata": {},
   "outputs": [
    {
     "name": "stdout",
     "output_type": "stream",
     "text": [
      "hello@@@@@\n"
     ]
    }
   ],
   "source": [
    "s = \"hello\"\n",
    "print(s.ljust(10, '@'))"
   ]
  },
  {
   "cell_type": "code",
   "execution_count": 74,
   "id": "40f7c2bc-a7f1-4d8b-9ff6-08daa14d0e87",
   "metadata": {},
   "outputs": [
    {
     "name": "stdout",
     "output_type": "stream",
     "text": [
      "hello    \n"
     ]
    }
   ],
   "source": [
    "s = \"   hello    \"\n",
    "print(s.lstrip())"
   ]
  },
  {
   "cell_type": "code",
   "execution_count": 75,
   "id": "4622f88a-dbc4-48a3-aab9-08c226f67105",
   "metadata": {},
   "outputs": [
    {
     "name": "stdout",
     "output_type": "stream",
     "text": [
      "   hello\n"
     ]
    }
   ],
   "source": [
    "s = \"   hello    \"\n",
    "print(s.rstrip())"
   ]
  },
  {
   "cell_type": "code",
   "execution_count": 77,
   "id": "d5f9c96e-91a2-4cb9-814f-02ad45ee8bf6",
   "metadata": {},
   "outputs": [
    {
     "name": "stdout",
     "output_type": "stream",
     "text": [
      "hello-world-py\n"
     ]
    }
   ],
   "source": [
    "words = ['hello', 'world', \"py\"]\n",
    "\n",
    "print('-'.join(words)) "
   ]
  },
  {
   "cell_type": "code",
   "execution_count": 79,
   "id": "397c0e91-3149-4189-887e-f5ba6f085c35",
   "metadata": {},
   "outputs": [
    {
     "data": {
      "text/plain": [
       "'m-y- -s-t-r-i-n-g'"
      ]
     },
     "execution_count": 79,
     "metadata": {},
     "output_type": "execute_result"
    }
   ],
   "source": [
    "\"-\".join(var)"
   ]
  },
  {
   "cell_type": "code",
   "execution_count": 82,
   "id": "dc302daf-e5b7-47b0-bf7b-f9f6f8656fc5",
   "metadata": {},
   "outputs": [
    {
     "name": "stdout",
     "output_type": "stream",
     "text": [
      "('hello', ' ', 'world')\n"
     ]
    }
   ],
   "source": [
    "s = \"hello world\"\n",
    "print(s.partition(\" \"))"
   ]
  },
  {
   "cell_type": "code",
   "execution_count": 83,
   "id": "ab8dcee5-fb29-4e2a-adbe-95df4d69ddaf",
   "metadata": {},
   "outputs": [
    {
     "name": "stdout",
     "output_type": "stream",
     "text": [
      "hello Python\n"
     ]
    }
   ],
   "source": [
    "s = \"hello world\"\n",
    "print(s.replace('world', 'Python'))"
   ]
  },
  {
   "cell_type": "code",
   "execution_count": 84,
   "id": "12da5aa7-92aa-44ef-86c7-033694f11389",
   "metadata": {},
   "outputs": [
    {
     "name": "stdout",
     "output_type": "stream",
     "text": [
      "hellO wOrld\n"
     ]
    }
   ],
   "source": [
    "s = \"hello world\"\n",
    "print(s.replace('o', 'O'))"
   ]
  },
  {
   "cell_type": "code",
   "execution_count": 85,
   "id": "36e2deea-1726-4c1c-8592-d0266f0e93a6",
   "metadata": {},
   "outputs": [
    {
     "name": "stdout",
     "output_type": "stream",
     "text": [
      "0\n"
     ]
    }
   ],
   "source": [
    "s = \"hello hello hello\"\n",
    "print(s.find('hello')) "
   ]
  },
  {
   "cell_type": "code",
   "execution_count": 86,
   "id": "407c2c1c-931b-4ad2-93f9-e5ae1cf73050",
   "metadata": {},
   "outputs": [
    {
     "name": "stdout",
     "output_type": "stream",
     "text": [
      "12\n"
     ]
    }
   ],
   "source": [
    "s = \"hello hello hello\"\n",
    "print(s.rfind('hello')) "
   ]
  },
  {
   "cell_type": "code",
   "execution_count": 87,
   "id": "f852293e-0435-421f-bea1-45629c1cba8e",
   "metadata": {},
   "outputs": [
    {
     "data": {
      "text/plain": [
       "1"
      ]
     },
     "execution_count": 87,
     "metadata": {},
     "output_type": "execute_result"
    }
   ],
   "source": [
    "s = \"hello hello hello\"\n",
    "s.find(\"e\")"
   ]
  },
  {
   "cell_type": "code",
   "execution_count": 88,
   "id": "2df4c113-c502-4ceb-be07-966df1788fac",
   "metadata": {},
   "outputs": [
    {
     "data": {
      "text/plain": [
       "13"
      ]
     },
     "execution_count": 88,
     "metadata": {},
     "output_type": "execute_result"
    }
   ],
   "source": [
    "s = \"hello hello hello\"\n",
    "s.rfind(\"e\")"
   ]
  },
  {
   "cell_type": "code",
   "execution_count": 89,
   "id": "8e6ce2e2-a315-4acd-920f-3d443c6300fc",
   "metadata": {},
   "outputs": [
    {
     "name": "stdout",
     "output_type": "stream",
     "text": [
      "['hello', 'world']\n"
     ]
    }
   ],
   "source": [
    "s = \"hello world\"\n",
    "print(s.split()) "
   ]
  },
  {
   "cell_type": "code",
   "execution_count": 91,
   "id": "fe6826a8-be60-4b3a-af3c-93c40515acf7",
   "metadata": {},
   "outputs": [
    {
     "name": "stdout",
     "output_type": "stream",
     "text": [
      "['he', 'llo', ' wor', 'ld']\n"
     ]
    }
   ],
   "source": [
    "s = \"he,llo, wor,ld\"\n",
    "print(s.split(\",\")) "
   ]
  },
  {
   "cell_type": "code",
   "execution_count": 92,
   "id": "2b4e0deb-539d-460f-8140-ab266aa63b76",
   "metadata": {},
   "outputs": [
    {
     "name": "stdout",
     "output_type": "stream",
     "text": [
      "Hello\n"
     ]
    }
   ],
   "source": [
    "s = \"Hello@@@@##$\"\n",
    "print(s.strip(\"@#$\"))"
   ]
  },
  {
   "cell_type": "code",
   "execution_count": null,
   "id": "b9795411-6e84-4a7b-bb04-9e83b24854aa",
   "metadata": {},
   "outputs": [],
   "source": [
    "Here are 20 basic questions related to string functions in Python:\n",
    "\n",
    "### 1. **How do you create a string in Python?**\n",
    "   - Example: `my_string = \"Hello, World!\"`\n",
    "\n",
    "### 2. **How can you check the length of a string?**\n",
    "   - Function: `u(my_string)`\n",
    "\n",
    "### 3. **How do you access the first character of a string?**\n",
    "   - Example: `my_string[0]`\n",
    "\n",
    "### 4. **How do you access the last character of a string?**\n",
    "   - Example: `my_string[-1]`\n",
    "\n",
    "### 5. **How can you convert a string to lowercase?**\n",
    "   - Function: `my_string.lower()`\n",
    "\n",
    "### 6. **How can you convert a string to uppercase?**\n",
    "   - Function: `my_string.upper()`\n",
    "\n",
    "### 7. **How do you check if a string is in uppercase?**\n",
    "   - Function: `my_string.isupper()`\n",
    "\n",
    "### 8. **How do you check if a string is in lowercase?**\n",
    "   - Function: `my_string.islower()`\n",
    "\n",
    "### 9. **How do you remove whitespace from the beginning and end of a string?**\n",
    "   - Function: `my_string.strip()`\n",
    "\n",
    "### 10. **How do you find the index of a substring within a string?**\n",
    "   - Function: `my_string.find(\"substring\")`\n",
    "\n",
    "### 11. **What is the difference between `find()` and `index()`?**\n",
    "   - `find()` returns `-1` if the substring is not found, while `index()` raises a `ValueError`.\n",
    "\n",
    "### 12. **How do you check if a string contains only alphabetic characters?**\n",
    "   - Function: `my_string.isalpha()`\n",
    "\n",
    "### 13. **How do you check if a string contains only digits?**\n",
    "   - Function: `my_string.isdigit()`\n",
    "\n",
    "### 14. **How can you split a string into a list of words?**\n",
    "   - Function: `my_string.split()`\n",
    "\n",
    "### 15. **How can you join a list of strings into a single string?**\n",
    "   - Function: `separator.join(list_of_strings)`\n",
    "\n",
    "### 16. **How can you replace a part of a string with another string?**\n",
    "   - Function: `my_string.replace(\"old\", \"new\")`\n",
    "\n",
    "### 17. **How do you check if a string starts with a specific substring?**\n",
    "   - Function: `my_string.startswith(\"prefix\")`\n",
    "\n",
    "### 18. **How do you check if a string ends with a specific substring?**\n",
    "   - Function: `my_string.endswith(\"suffix\")`\n",
    "\n",
    "### 19. **How do you count the occurrences of a substring in a string?**\n",
    "   - Function: `my_string.count(\"substring\")`\n",
    "\n",
    "### 20. **How do you capitalize the first letter of a string?**\n",
    "   - Function: `my_string.capitalize()`\n",
    "\n",
    "These are just a few of the basic string operations you can perform in Python. Strings in Python have many other methods to manipulate and process text data."
   ]
  }
 ],
 "metadata": {
  "kernelspec": {
   "display_name": "Python 3 (ipykernel)",
   "language": "python",
   "name": "python3"
  },
  "language_info": {
   "codemirror_mode": {
    "name": "ipython",
    "version": 3
   },
   "file_extension": ".py",
   "mimetype": "text/x-python",
   "name": "python",
   "nbconvert_exporter": "python",
   "pygments_lexer": "ipython3",
   "version": "3.11.7"
  }
 },
 "nbformat": 4,
 "nbformat_minor": 5
}
