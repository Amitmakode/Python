{
 "cells": [
  {
   "cell_type": "markdown",
   "id": "13c33124-5d51-455e-8afb-7c03281554af",
   "metadata": {},
   "source": [
    "### List"
   ]
  },
  {
   "cell_type": "code",
   "execution_count": 1,
   "id": "954a139c-2b0f-4262-ac0b-e185811dc7f7",
   "metadata": {},
   "outputs": [],
   "source": [
    "list = []"
   ]
  },
  {
   "cell_type": "code",
   "execution_count": 2,
   "id": "4227d6d0-bcae-45dd-9e0f-b66508dad459",
   "metadata": {},
   "outputs": [
    {
     "data": {
      "text/plain": [
       "list"
      ]
     },
     "execution_count": 2,
     "metadata": {},
     "output_type": "execute_result"
    }
   ],
   "source": [
    "type(list)"
   ]
  },
  {
   "cell_type": "code",
   "execution_count": 3,
   "id": "2beb0f0f-00d0-41f4-ad1c-d110e3eea950",
   "metadata": {},
   "outputs": [],
   "source": [
    "lis = [\"apple\", \"mango\", \"banana\", \"cherry\"]"
   ]
  },
  {
   "cell_type": "code",
   "execution_count": 4,
   "id": "d197e077-cffc-4d0e-8e21-1a7d8588c8a6",
   "metadata": {},
   "outputs": [
    {
     "data": {
      "text/plain": [
       "['apple', 'mango', 'banana', 'cherry']"
      ]
     },
     "execution_count": 4,
     "metadata": {},
     "output_type": "execute_result"
    }
   ],
   "source": [
    "lis"
   ]
  },
  {
   "cell_type": "code",
   "execution_count": 5,
   "id": "b5cf39ef-d442-499e-81f9-4975e35a5a91",
   "metadata": {},
   "outputs": [],
   "source": [
    "l = [2,3,4,5,6,7,8]"
   ]
  },
  {
   "cell_type": "code",
   "execution_count": 6,
   "id": "58aa6f2b-6c5b-450b-9de5-4577462182a8",
   "metadata": {},
   "outputs": [
    {
     "data": {
      "text/plain": [
       "[2, 3, 4, 5, 6, 7, 8]"
      ]
     },
     "execution_count": 6,
     "metadata": {},
     "output_type": "execute_result"
    }
   ],
   "source": [
    "l"
   ]
  },
  {
   "cell_type": "markdown",
   "id": "b441e7f5-31f2-4b52-9ad1-d3839019b48b",
   "metadata": {},
   "source": [
    "### indexing"
   ]
  },
  {
   "cell_type": "code",
   "execution_count": 7,
   "id": "04c1077e-5ff0-45f2-b04a-2e2c3c8b7486",
   "metadata": {},
   "outputs": [
    {
     "ename": "IndexError",
     "evalue": "list index out of range",
     "output_type": "error",
     "traceback": [
      "\u001b[1;31m---------------------------------------------------------------------------\u001b[0m",
      "\u001b[1;31mIndexError\u001b[0m                                Traceback (most recent call last)",
      "Cell \u001b[1;32mIn[7], line 1\u001b[0m\n\u001b[1;32m----> 1\u001b[0m lis[\u001b[38;5;241m4\u001b[39m]\n",
      "\u001b[1;31mIndexError\u001b[0m: list index out of range"
     ]
    }
   ],
   "source": [
    "lis[4]"
   ]
  },
  {
   "cell_type": "code",
   "execution_count": 8,
   "id": "56450908-f19f-485c-9cf8-36963fee5363",
   "metadata": {},
   "outputs": [
    {
     "data": {
      "text/plain": [
       "'cherry'"
      ]
     },
     "execution_count": 8,
     "metadata": {},
     "output_type": "execute_result"
    }
   ],
   "source": [
    "lis[3]"
   ]
  },
  {
   "cell_type": "code",
   "execution_count": 9,
   "id": "361937d6-8de1-4c85-bcbb-bdeef24c084a",
   "metadata": {},
   "outputs": [
    {
     "data": {
      "text/plain": [
       "'apple'"
      ]
     },
     "execution_count": 9,
     "metadata": {},
     "output_type": "execute_result"
    }
   ],
   "source": [
    "lis[0]"
   ]
  },
  {
   "cell_type": "code",
   "execution_count": 10,
   "id": "359c19f0-a840-4b90-aab6-74d2645d7cad",
   "metadata": {},
   "outputs": [
    {
     "data": {
      "text/plain": [
       "'banana'"
      ]
     },
     "execution_count": 10,
     "metadata": {},
     "output_type": "execute_result"
    }
   ],
   "source": [
    "lis[-2]"
   ]
  },
  {
   "cell_type": "markdown",
   "id": "84c3ea33-5e7d-413c-9812-6648f11b6ba7",
   "metadata": {},
   "source": [
    "### slicing"
   ]
  },
  {
   "cell_type": "code",
   "execution_count": 12,
   "id": "004bea2d-bcd3-4413-9fa6-c3961582a421",
   "metadata": {},
   "outputs": [
    {
     "data": {
      "text/plain": [
       "[2, 3, 4]"
      ]
     },
     "execution_count": 12,
     "metadata": {},
     "output_type": "execute_result"
    }
   ],
   "source": [
    "l[:3]"
   ]
  },
  {
   "cell_type": "code",
   "execution_count": 11,
   "id": "b50c7de1-078a-45f3-8d52-fc6f6fd6807f",
   "metadata": {},
   "outputs": [
    {
     "data": {
      "text/plain": [
       "[2, 3, 4, 5, 6, 7, 8]"
      ]
     },
     "execution_count": 11,
     "metadata": {},
     "output_type": "execute_result"
    }
   ],
   "source": [
    "l"
   ]
  },
  {
   "cell_type": "code",
   "execution_count": 13,
   "id": "72e62447-6353-4979-a3c5-bd105f7933f2",
   "metadata": {},
   "outputs": [
    {
     "data": {
      "text/plain": [
       "[4, 5, 6, 7, 8]"
      ]
     },
     "execution_count": 13,
     "metadata": {},
     "output_type": "execute_result"
    }
   ],
   "source": [
    "l[2:]"
   ]
  },
  {
   "cell_type": "code",
   "execution_count": 14,
   "id": "af4c3161-ee11-4df3-8907-663c35fc6abe",
   "metadata": {},
   "outputs": [
    {
     "data": {
      "text/plain": [
       "[8, 7, 6, 5, 4, 3, 2]"
      ]
     },
     "execution_count": 14,
     "metadata": {},
     "output_type": "execute_result"
    }
   ],
   "source": [
    "l[::-1]"
   ]
  },
  {
   "cell_type": "markdown",
   "id": "2298f656-601f-4752-9ab3-6567a1199594",
   "metadata": {},
   "source": [
    "### Concatination"
   ]
  },
  {
   "cell_type": "code",
   "execution_count": 16,
   "id": "f4e23e00-a3f2-47b1-bf93-a212e3e3ce79",
   "metadata": {},
   "outputs": [
    {
     "data": {
      "text/plain": [
       "[2, 3, 4, 5, 6, 7, 8, 'apple', 'mango', 'banana', 'cherry']"
      ]
     },
     "execution_count": 16,
     "metadata": {},
     "output_type": "execute_result"
    }
   ],
   "source": [
    "l + lis"
   ]
  },
  {
   "cell_type": "code",
   "execution_count": 17,
   "id": "a61023da-d4ce-4dc3-93a5-2d8e2555e83b",
   "metadata": {},
   "outputs": [
    {
     "data": {
      "text/plain": [
       "[2, 3, 4, 5, 6, 7, 8, 2, 3, 4, 5, 6, 7, 8]"
      ]
     },
     "execution_count": 17,
     "metadata": {},
     "output_type": "execute_result"
    }
   ],
   "source": [
    "l * 2"
   ]
  },
  {
   "cell_type": "markdown",
   "id": "4c33e330-d47b-4195-ac8b-f5256b07cd89",
   "metadata": {},
   "source": [
    "### Mutablitiy"
   ]
  },
  {
   "cell_type": "code",
   "execution_count": 19,
   "id": "85449031-ef54-44e9-b705-bfd2629b7765",
   "metadata": {},
   "outputs": [],
   "source": [
    "l[4] = 1"
   ]
  },
  {
   "cell_type": "code",
   "execution_count": 20,
   "id": "e960fc0c-aeb7-46e8-8c43-95298bd6f39b",
   "metadata": {},
   "outputs": [
    {
     "data": {
      "text/plain": [
       "[2, 3, 4, 5, 1, 7, 8]"
      ]
     },
     "execution_count": 20,
     "metadata": {},
     "output_type": "execute_result"
    }
   ],
   "source": [
    "l"
   ]
  },
  {
   "cell_type": "code",
   "execution_count": 21,
   "id": "a74c066a-dd27-40b3-85b5-25264cdc741d",
   "metadata": {},
   "outputs": [
    {
     "data": {
      "text/plain": [
       "True"
      ]
     },
     "execution_count": 21,
     "metadata": {},
     "output_type": "execute_result"
    }
   ],
   "source": [
    "3 in l"
   ]
  },
  {
   "cell_type": "code",
   "execution_count": 22,
   "id": "59320524-39a3-4697-824b-ed09fb6e7989",
   "metadata": {},
   "outputs": [
    {
     "name": "stderr",
     "output_type": "stream",
     "text": [
      "<>:1: SyntaxWarning: \"is\" with a literal. Did you mean \"==\"?\n",
      "<>:1: SyntaxWarning: \"is\" with a literal. Did you mean \"==\"?\n",
      "C:\\Users\\amitm\\AppData\\Local\\Temp\\ipykernel_15356\\1667125088.py:1: SyntaxWarning: \"is\" with a literal. Did you mean \"==\"?\n",
      "  3 is l\n"
     ]
    },
    {
     "data": {
      "text/plain": [
       "False"
      ]
     },
     "execution_count": 22,
     "metadata": {},
     "output_type": "execute_result"
    }
   ],
   "source": [
    "3 is l"
   ]
  },
  {
   "cell_type": "code",
   "execution_count": 23,
   "id": "9284ba30-caf2-47ce-9db1-f2c492910d33",
   "metadata": {},
   "outputs": [
    {
     "data": {
      "text/plain": [
       "False"
      ]
     },
     "execution_count": 23,
     "metadata": {},
     "output_type": "execute_result"
    }
   ],
   "source": [
    "lis is l"
   ]
  },
  {
   "cell_type": "code",
   "execution_count": 24,
   "id": "af0624a3-b56c-4fed-80a6-2a1338e9fcf3",
   "metadata": {},
   "outputs": [
    {
     "data": {
      "text/plain": [
       "['__add__',\n",
       " '__class__',\n",
       " '__class_getitem__',\n",
       " '__contains__',\n",
       " '__delattr__',\n",
       " '__delitem__',\n",
       " '__dir__',\n",
       " '__doc__',\n",
       " '__eq__',\n",
       " '__format__',\n",
       " '__ge__',\n",
       " '__getattribute__',\n",
       " '__getitem__',\n",
       " '__getstate__',\n",
       " '__gt__',\n",
       " '__hash__',\n",
       " '__iadd__',\n",
       " '__imul__',\n",
       " '__init__',\n",
       " '__init_subclass__',\n",
       " '__iter__',\n",
       " '__le__',\n",
       " '__len__',\n",
       " '__lt__',\n",
       " '__mul__',\n",
       " '__ne__',\n",
       " '__new__',\n",
       " '__reduce__',\n",
       " '__reduce_ex__',\n",
       " '__repr__',\n",
       " '__reversed__',\n",
       " '__rmul__',\n",
       " '__setattr__',\n",
       " '__setitem__',\n",
       " '__sizeof__',\n",
       " '__str__',\n",
       " '__subclasshook__',\n",
       " 'append',\n",
       " 'clear',\n",
       " 'copy',\n",
       " 'count',\n",
       " 'extend',\n",
       " 'index',\n",
       " 'insert',\n",
       " 'pop',\n",
       " 'remove',\n",
       " 'reverse',\n",
       " 'sort']"
      ]
     },
     "execution_count": 24,
     "metadata": {},
     "output_type": "execute_result"
    }
   ],
   "source": [
    "dir(list)"
   ]
  },
  {
   "cell_type": "code",
   "execution_count": 25,
   "id": "39de6191-ea3a-4811-b879-047b53ed0609",
   "metadata": {},
   "outputs": [
    {
     "data": {
      "text/plain": [
       "['apple', 'mango', 'banana', 'cherry']"
      ]
     },
     "execution_count": 25,
     "metadata": {},
     "output_type": "execute_result"
    }
   ],
   "source": [
    "lis"
   ]
  },
  {
   "cell_type": "code",
   "execution_count": 28,
   "id": "9d70ec77-db20-4cc6-a015-71d31a11a66f",
   "metadata": {},
   "outputs": [],
   "source": [
    "lis.append(\"pienapple\")"
   ]
  },
  {
   "cell_type": "code",
   "execution_count": 29,
   "id": "9955dd39-97e2-49be-90de-80ea01032eb0",
   "metadata": {},
   "outputs": [
    {
     "data": {
      "text/plain": [
       "['apple', 'mango', 'banana', 'cherry', 'pienapple', 'pienapple']"
      ]
     },
     "execution_count": 29,
     "metadata": {},
     "output_type": "execute_result"
    }
   ],
   "source": [
    "lis"
   ]
  },
  {
   "cell_type": "code",
   "execution_count": 30,
   "id": "281d8ea8-fd04-4c1f-9489-af43e92b9c2b",
   "metadata": {},
   "outputs": [],
   "source": [
    "lis.append(34)"
   ]
  },
  {
   "cell_type": "code",
   "execution_count": 31,
   "id": "457f4138-2a7f-4575-9122-e84c8fa5a855",
   "metadata": {},
   "outputs": [
    {
     "data": {
      "text/plain": [
       "['apple', 'mango', 'banana', 'cherry', 'pienapple', 'pienapple', 34]"
      ]
     },
     "execution_count": 31,
     "metadata": {},
     "output_type": "execute_result"
    }
   ],
   "source": [
    "lis"
   ]
  },
  {
   "cell_type": "code",
   "execution_count": 32,
   "id": "80ea2e79-4645-4159-9b5b-6e6e12aa3c56",
   "metadata": {},
   "outputs": [
    {
     "ename": "TypeError",
     "evalue": "'int' object is not iterable",
     "output_type": "error",
     "traceback": [
      "\u001b[1;31m---------------------------------------------------------------------------\u001b[0m",
      "\u001b[1;31mTypeError\u001b[0m                                 Traceback (most recent call last)",
      "Cell \u001b[1;32mIn[32], line 1\u001b[0m\n\u001b[1;32m----> 1\u001b[0m lis\u001b[38;5;241m.\u001b[39mextend(\u001b[38;5;241m56\u001b[39m)\n",
      "\u001b[1;31mTypeError\u001b[0m: 'int' object is not iterable"
     ]
    }
   ],
   "source": [
    "lis.extend(56)"
   ]
  },
  {
   "cell_type": "code",
   "execution_count": 33,
   "id": "83829dec-217d-44dc-ba7d-3675203504b1",
   "metadata": {},
   "outputs": [],
   "source": [
    "lis.extend([56])"
   ]
  },
  {
   "cell_type": "code",
   "execution_count": 34,
   "id": "e54552d4-3880-4be5-89ee-a1920caaa28c",
   "metadata": {},
   "outputs": [
    {
     "data": {
      "text/plain": [
       "['apple', 'mango', 'banana', 'cherry', 'pienapple', 'pienapple', 34, 56]"
      ]
     },
     "execution_count": 34,
     "metadata": {},
     "output_type": "execute_result"
    }
   ],
   "source": [
    "lis"
   ]
  },
  {
   "cell_type": "code",
   "execution_count": 35,
   "id": "25559355-cbe0-485a-8451-ac6007763855",
   "metadata": {},
   "outputs": [],
   "source": [
    "lis.extend(\"java\")"
   ]
  },
  {
   "cell_type": "code",
   "execution_count": 36,
   "id": "4ee86efd-982e-4c8c-9341-01b1bd1edea7",
   "metadata": {},
   "outputs": [
    {
     "data": {
      "text/plain": [
       "['apple',\n",
       " 'mango',\n",
       " 'banana',\n",
       " 'cherry',\n",
       " 'pienapple',\n",
       " 'pienapple',\n",
       " 34,\n",
       " 56,\n",
       " 'j',\n",
       " 'a',\n",
       " 'v',\n",
       " 'a']"
      ]
     },
     "execution_count": 36,
     "metadata": {},
     "output_type": "execute_result"
    }
   ],
   "source": [
    "lis"
   ]
  },
  {
   "cell_type": "code",
   "execution_count": 39,
   "id": "8cc05349-fd8b-4c22-9545-79c414a9af1e",
   "metadata": {},
   "outputs": [],
   "source": [
    "lis.insert(1, \"orange\")"
   ]
  },
  {
   "cell_type": "code",
   "execution_count": 40,
   "id": "73d7c642-0f57-4816-a333-efe065575d20",
   "metadata": {},
   "outputs": [
    {
     "data": {
      "text/plain": [
       "['apple',\n",
       " 'orange',\n",
       " 'mango',\n",
       " 'banana',\n",
       " 'cherry',\n",
       " 'pienapple',\n",
       " 'pienapple',\n",
       " 34,\n",
       " 56,\n",
       " 'j',\n",
       " 'a',\n",
       " 'v',\n",
       " 'a']"
      ]
     },
     "execution_count": 40,
     "metadata": {},
     "output_type": "execute_result"
    }
   ],
   "source": [
    "lis"
   ]
  },
  {
   "cell_type": "code",
   "execution_count": 42,
   "id": "f8969517-c43f-44f6-9ac4-12211e47c385",
   "metadata": {},
   "outputs": [],
   "source": [
    "l.append([3,4,5])"
   ]
  },
  {
   "cell_type": "code",
   "execution_count": 43,
   "id": "a3478a0b-226a-40c2-b17e-5c6131b16719",
   "metadata": {},
   "outputs": [
    {
     "data": {
      "text/plain": [
       "[2, 3, 4, 5, 1, 7, 8, [3, 4, 5]]"
      ]
     },
     "execution_count": 43,
     "metadata": {},
     "output_type": "execute_result"
    }
   ],
   "source": [
    "l"
   ]
  },
  {
   "cell_type": "code",
   "execution_count": 44,
   "id": "60097897-9f9b-4976-a0eb-5e3668f97d55",
   "metadata": {},
   "outputs": [],
   "source": [
    "l.extend([3,4,5])"
   ]
  },
  {
   "cell_type": "code",
   "execution_count": 45,
   "id": "b72f355b-10e5-4aad-ae49-4f9409218f75",
   "metadata": {},
   "outputs": [
    {
     "data": {
      "text/plain": [
       "[2, 3, 4, 5, 1, 7, 8, [3, 4, 5], 3, 4, 5]"
      ]
     },
     "execution_count": 45,
     "metadata": {},
     "output_type": "execute_result"
    }
   ],
   "source": [
    "l"
   ]
  },
  {
   "cell_type": "raw",
   "id": "146f2417-cf1c-4c20-9659-885b29e7a7e3",
   "metadata": {},
   "source": [
    "Non-iterable\n",
    "int\n",
    "float\n",
    "complex\n",
    "bool"
   ]
  },
  {
   "cell_type": "raw",
   "id": "ca0480c8-eeda-4498-a28d-d999ed6bbe36",
   "metadata": {},
   "source": [
    "iterable\n",
    "str\n",
    "list\n",
    "tuple\n",
    "set\n",
    "dict"
   ]
  },
  {
   "cell_type": "code",
   "execution_count": 49,
   "id": "c6443d90-3aff-4bb9-a243-d7cd1ed2ed3d",
   "metadata": {},
   "outputs": [
    {
     "name": "stdout",
     "output_type": "stream",
     "text": [
      "p\n",
      "y\n",
      "t\n",
      "h\n",
      "o\n",
      "n\n"
     ]
    }
   ],
   "source": [
    "for i in \"python\":\n",
    "    print(i)"
   ]
  },
  {
   "cell_type": "code",
   "execution_count": 47,
   "id": "a7e85885-ad17-48c9-8156-9e766a501361",
   "metadata": {},
   "outputs": [],
   "source": [
    "var = 76576823"
   ]
  },
  {
   "cell_type": "code",
   "execution_count": 48,
   "id": "641176f6-730d-427b-be47-ba6e71be530b",
   "metadata": {},
   "outputs": [
    {
     "ename": "TypeError",
     "evalue": "'int' object is not iterable",
     "output_type": "error",
     "traceback": [
      "\u001b[1;31m---------------------------------------------------------------------------\u001b[0m",
      "\u001b[1;31mTypeError\u001b[0m                                 Traceback (most recent call last)",
      "Cell \u001b[1;32mIn[48], line 1\u001b[0m\n\u001b[1;32m----> 1\u001b[0m \u001b[38;5;28;01mfor\u001b[39;00m i \u001b[38;5;129;01min\u001b[39;00m var:\n\u001b[0;32m      2\u001b[0m     \u001b[38;5;28mprint\u001b[39m(i)\n",
      "\u001b[1;31mTypeError\u001b[0m: 'int' object is not iterable"
     ]
    }
   ],
   "source": [
    "for i in var:\n",
    "    print(i)"
   ]
  },
  {
   "cell_type": "code",
   "execution_count": 50,
   "id": "f0411faf-a45e-4ca8-ae7b-dc0c38114030",
   "metadata": {},
   "outputs": [
    {
     "data": {
      "text/plain": [
       "['apple',\n",
       " 'orange',\n",
       " 'mango',\n",
       " 'banana',\n",
       " 'cherry',\n",
       " 'pienapple',\n",
       " 'pienapple',\n",
       " 34,\n",
       " 56,\n",
       " 'j',\n",
       " 'a',\n",
       " 'v',\n",
       " 'a']"
      ]
     },
     "execution_count": 50,
     "metadata": {},
     "output_type": "execute_result"
    }
   ],
   "source": [
    "lis"
   ]
  },
  {
   "cell_type": "code",
   "execution_count": 51,
   "id": "9ec694ca-ea92-4869-af4d-8e6cdcb26174",
   "metadata": {},
   "outputs": [
    {
     "data": {
      "text/plain": [
       "'a'"
      ]
     },
     "execution_count": 51,
     "metadata": {},
     "output_type": "execute_result"
    }
   ],
   "source": [
    "lis.pop()"
   ]
  },
  {
   "cell_type": "code",
   "execution_count": 53,
   "id": "649a3e2d-f52f-492a-9bab-38c5fe8455e0",
   "metadata": {},
   "outputs": [
    {
     "data": {
      "text/plain": [
       "'v'"
      ]
     },
     "execution_count": 53,
     "metadata": {},
     "output_type": "execute_result"
    }
   ],
   "source": [
    "lis.pop()"
   ]
  },
  {
   "cell_type": "code",
   "execution_count": 54,
   "id": "d3f746c5-6019-436a-bf61-bc13f0411a6c",
   "metadata": {},
   "outputs": [
    {
     "data": {
      "text/plain": [
       "['apple',\n",
       " 'orange',\n",
       " 'mango',\n",
       " 'banana',\n",
       " 'cherry',\n",
       " 'pienapple',\n",
       " 'pienapple',\n",
       " 34,\n",
       " 56,\n",
       " 'j',\n",
       " 'a']"
      ]
     },
     "execution_count": 54,
     "metadata": {},
     "output_type": "execute_result"
    }
   ],
   "source": [
    "lis"
   ]
  },
  {
   "cell_type": "code",
   "execution_count": 56,
   "id": "f9f5377f-ad10-4701-9ba5-ff1136cb8320",
   "metadata": {},
   "outputs": [],
   "source": [
    "lis.remove(34)"
   ]
  },
  {
   "cell_type": "code",
   "execution_count": 57,
   "id": "0b522756-fb7a-4810-ba45-bc483a6223db",
   "metadata": {},
   "outputs": [
    {
     "data": {
      "text/plain": [
       "['apple',\n",
       " 'orange',\n",
       " 'mango',\n",
       " 'banana',\n",
       " 'cherry',\n",
       " 'pienapple',\n",
       " 'pienapple',\n",
       " 56,\n",
       " 'j',\n",
       " 'a']"
      ]
     },
     "execution_count": 57,
     "metadata": {},
     "output_type": "execute_result"
    }
   ],
   "source": [
    "lis"
   ]
  },
  {
   "cell_type": "code",
   "execution_count": 60,
   "id": "12e54e3d-7406-457d-bb4a-cf5ef97a6dde",
   "metadata": {},
   "outputs": [
    {
     "data": {
      "text/plain": [
       "'j'"
      ]
     },
     "execution_count": 60,
     "metadata": {},
     "output_type": "execute_result"
    }
   ],
   "source": [
    "lis.pop()"
   ]
  },
  {
   "cell_type": "code",
   "execution_count": 61,
   "id": "a341e2ee-d157-40ec-8311-9b4d7585d67e",
   "metadata": {},
   "outputs": [
    {
     "data": {
      "text/plain": [
       "['apple', 'orange', 'mango', 'banana', 'cherry', 'pienapple', 'pienapple', 56]"
      ]
     },
     "execution_count": 61,
     "metadata": {},
     "output_type": "execute_result"
    }
   ],
   "source": [
    "lis"
   ]
  },
  {
   "cell_type": "code",
   "execution_count": 62,
   "id": "cc65b12d-2c34-471a-b1af-eb6569841b16",
   "metadata": {},
   "outputs": [
    {
     "ename": "ValueError",
     "evalue": "4 is not in list",
     "output_type": "error",
     "traceback": [
      "\u001b[1;31m---------------------------------------------------------------------------\u001b[0m",
      "\u001b[1;31mValueError\u001b[0m                                Traceback (most recent call last)",
      "Cell \u001b[1;32mIn[62], line 1\u001b[0m\n\u001b[1;32m----> 1\u001b[0m lis\u001b[38;5;241m.\u001b[39mindex(\u001b[38;5;241m4\u001b[39m)\n",
      "\u001b[1;31mValueError\u001b[0m: 4 is not in list"
     ]
    }
   ],
   "source": [
    "lis.index(4)"
   ]
  },
  {
   "cell_type": "code",
   "execution_count": 63,
   "id": "606cf9d8-a7d1-4864-9b05-9ee910c67df5",
   "metadata": {},
   "outputs": [
    {
     "data": {
      "text/plain": [
       "3"
      ]
     },
     "execution_count": 63,
     "metadata": {},
     "output_type": "execute_result"
    }
   ],
   "source": [
    "lis.index(\"banana\")"
   ]
  },
  {
   "cell_type": "code",
   "execution_count": 66,
   "id": "f42ebfe9-2169-4c4e-80d8-0a25934e5bf2",
   "metadata": {},
   "outputs": [],
   "source": [
    "l2 = lis.copy()"
   ]
  },
  {
   "cell_type": "code",
   "execution_count": 67,
   "id": "a17fcad0-f421-4fd9-9c7f-88000674f62e",
   "metadata": {},
   "outputs": [
    {
     "data": {
      "text/plain": [
       "['apple', 'orange', 'mango', 'banana', 'cherry', 'pienapple', 'pienapple', 56]"
      ]
     },
     "execution_count": 67,
     "metadata": {},
     "output_type": "execute_result"
    }
   ],
   "source": [
    "l2"
   ]
  },
  {
   "cell_type": "code",
   "execution_count": 69,
   "id": "b72eb8c9-42c1-485b-bac5-2dd7c12280bd",
   "metadata": {},
   "outputs": [],
   "source": [
    "lis[3] = \"chiku\""
   ]
  },
  {
   "cell_type": "code",
   "execution_count": 70,
   "id": "e5082328-7727-4580-9538-cdf8b424fddc",
   "metadata": {},
   "outputs": [
    {
     "data": {
      "text/plain": [
       "['apple', 'orange', 'mango', 'chiku', 'cherry', 'pienapple', 'pienapple', 56]"
      ]
     },
     "execution_count": 70,
     "metadata": {},
     "output_type": "execute_result"
    }
   ],
   "source": [
    "lis"
   ]
  },
  {
   "cell_type": "code",
   "execution_count": 71,
   "id": "a5e7356f-c779-4c00-9ff6-7f87f2c687f0",
   "metadata": {},
   "outputs": [
    {
     "data": {
      "text/plain": [
       "['apple', 'orange', 'mango', 'banana', 'cherry', 'pienapple', 'pienapple', 56]"
      ]
     },
     "execution_count": 71,
     "metadata": {},
     "output_type": "execute_result"
    }
   ],
   "source": [
    "l2"
   ]
  },
  {
   "cell_type": "code",
   "execution_count": 72,
   "id": "9b1c0ec1-2041-46be-877a-3659f00128e8",
   "metadata": {},
   "outputs": [],
   "source": [
    "l2.clear()"
   ]
  },
  {
   "cell_type": "code",
   "execution_count": 74,
   "id": "4b1f85cc-a2f1-45a3-9189-db1751a0528a",
   "metadata": {},
   "outputs": [
    {
     "data": {
      "text/plain": [
       "[]"
      ]
     },
     "execution_count": 74,
     "metadata": {},
     "output_type": "execute_result"
    }
   ],
   "source": [
    "l2"
   ]
  },
  {
   "cell_type": "code",
   "execution_count": 76,
   "id": "e1ee0470-ccb1-48da-9aea-06075814ee45",
   "metadata": {},
   "outputs": [
    {
     "data": {
      "text/plain": [
       "2"
      ]
     },
     "execution_count": 76,
     "metadata": {},
     "output_type": "execute_result"
    }
   ],
   "source": [
    "lis.count(\"pienapple\")"
   ]
  },
  {
   "cell_type": "code",
   "execution_count": 77,
   "id": "ed7b2487-c746-4f9d-bef9-7fddd89ee609",
   "metadata": {},
   "outputs": [],
   "source": [
    "lis.reverse()"
   ]
  },
  {
   "cell_type": "code",
   "execution_count": 80,
   "id": "f057a3ec-01d0-40b6-9329-1cc9ce31d6ad",
   "metadata": {},
   "outputs": [],
   "source": [
    "lis.remove(56)"
   ]
  },
  {
   "cell_type": "code",
   "execution_count": 81,
   "id": "6a388fbc-0868-416d-93db-4b8b128975c7",
   "metadata": {},
   "outputs": [],
   "source": [
    "lis.sort()"
   ]
  },
  {
   "cell_type": "code",
   "execution_count": 82,
   "id": "5d30d00d-dcaf-4891-ad67-024ce0696fb3",
   "metadata": {},
   "outputs": [
    {
     "data": {
      "text/plain": [
       "['apple', 'cherry', 'chiku', 'mango', 'orange', 'pienapple', 'pienapple']"
      ]
     },
     "execution_count": 82,
     "metadata": {},
     "output_type": "execute_result"
    }
   ],
   "source": [
    "lis"
   ]
  },
  {
   "cell_type": "code",
   "execution_count": null,
   "id": "4cd08b24-ee72-4bed-96d9-13804f70a146",
   "metadata": {},
   "outputs": [],
   "source": []
  },
  {
   "cell_type": "markdown",
   "id": "b4a279b4-3df4-418b-b228-e525ba639588",
   "metadata": {},
   "source": [
    "### Tuple"
   ]
  },
  {
   "cell_type": "code",
   "execution_count": 83,
   "id": "f1f96fbf-f75f-487d-873f-aa3d96b393b3",
   "metadata": {},
   "outputs": [],
   "source": [
    "tup = ()"
   ]
  },
  {
   "cell_type": "code",
   "execution_count": 84,
   "id": "80512e76-b6aa-415b-b0a0-b74dc2127048",
   "metadata": {},
   "outputs": [
    {
     "data": {
      "text/plain": [
       "tuple"
      ]
     },
     "execution_count": 84,
     "metadata": {},
     "output_type": "execute_result"
    }
   ],
   "source": [
    "type(tup)"
   ]
  },
  {
   "cell_type": "code",
   "execution_count": 85,
   "id": "697ba3ef-c96d-4758-939c-72c167ab4c91",
   "metadata": {},
   "outputs": [],
   "source": [
    "tup1 = ('apple', 'cherry', 'chiku', 'mango', 'orange', 'pienapple')"
   ]
  },
  {
   "cell_type": "code",
   "execution_count": 86,
   "id": "ebfee797-2247-4df3-9b85-c5b3acf8efb2",
   "metadata": {},
   "outputs": [
    {
     "data": {
      "text/plain": [
       "'orange'"
      ]
     },
     "execution_count": 86,
     "metadata": {},
     "output_type": "execute_result"
    }
   ],
   "source": [
    "tup1[4]"
   ]
  },
  {
   "cell_type": "code",
   "execution_count": 87,
   "id": "1892eecb-17d5-4f15-b2dc-3ac081137ea7",
   "metadata": {},
   "outputs": [
    {
     "data": {
      "text/plain": [
       "'chiku'"
      ]
     },
     "execution_count": 87,
     "metadata": {},
     "output_type": "execute_result"
    }
   ],
   "source": [
    "tup1[-4]"
   ]
  },
  {
   "cell_type": "code",
   "execution_count": 89,
   "id": "c4c26fd4-bc0f-4d6b-a757-563174acb4db",
   "metadata": {},
   "outputs": [
    {
     "data": {
      "text/plain": [
       "('apple', 'cherry', 'chiku')"
      ]
     },
     "execution_count": 89,
     "metadata": {},
     "output_type": "execute_result"
    }
   ],
   "source": [
    "tup1[:3]"
   ]
  },
  {
   "cell_type": "code",
   "execution_count": 90,
   "id": "36054c4e-2415-41b7-812f-9a81fc830de7",
   "metadata": {},
   "outputs": [
    {
     "data": {
      "text/plain": [
       "('chiku', 'mango', 'orange', 'pienapple')"
      ]
     },
     "execution_count": 90,
     "metadata": {},
     "output_type": "execute_result"
    }
   ],
   "source": [
    "tup1[2:]"
   ]
  },
  {
   "cell_type": "code",
   "execution_count": 91,
   "id": "1b0775ba-9f75-46a7-8952-8c9a7d1f9df0",
   "metadata": {},
   "outputs": [
    {
     "data": {
      "text/plain": [
       "('apple',\n",
       " 'cherry',\n",
       " 'chiku',\n",
       " 'mango',\n",
       " 'orange',\n",
       " 'pienapple',\n",
       " 'apple',\n",
       " 'cherry',\n",
       " 'chiku',\n",
       " 'mango',\n",
       " 'orange',\n",
       " 'pienapple')"
      ]
     },
     "execution_count": 91,
     "metadata": {},
     "output_type": "execute_result"
    }
   ],
   "source": [
    "tup1 + tup1"
   ]
  },
  {
   "cell_type": "code",
   "execution_count": 92,
   "id": "315a32fd-2316-4c66-b5b9-231d49975bfa",
   "metadata": {},
   "outputs": [
    {
     "data": {
      "text/plain": [
       "('apple',\n",
       " 'cherry',\n",
       " 'chiku',\n",
       " 'mango',\n",
       " 'orange',\n",
       " 'pienapple',\n",
       " 'apple',\n",
       " 'cherry',\n",
       " 'chiku',\n",
       " 'mango',\n",
       " 'orange',\n",
       " 'pienapple',\n",
       " 'apple',\n",
       " 'cherry',\n",
       " 'chiku',\n",
       " 'mango',\n",
       " 'orange',\n",
       " 'pienapple')"
      ]
     },
     "execution_count": 92,
     "metadata": {},
     "output_type": "execute_result"
    }
   ],
   "source": [
    "tup1 * 3"
   ]
  },
  {
   "cell_type": "code",
   "execution_count": 94,
   "id": "28e8ab29-1fa5-4e43-86ba-4bae4597579c",
   "metadata": {},
   "outputs": [
    {
     "ename": "TypeError",
     "evalue": "'tuple' object does not support item assignment",
     "output_type": "error",
     "traceback": [
      "\u001b[1;31m---------------------------------------------------------------------------\u001b[0m",
      "\u001b[1;31mTypeError\u001b[0m                                 Traceback (most recent call last)",
      "Cell \u001b[1;32mIn[94], line 1\u001b[0m\n\u001b[1;32m----> 1\u001b[0m tup1[\u001b[38;5;241m3\u001b[39m] \u001b[38;5;241m=\u001b[39m \u001b[38;5;124m\"\u001b[39m\u001b[38;5;124mmaza\u001b[39m\u001b[38;5;124m\"\u001b[39m\n",
      "\u001b[1;31mTypeError\u001b[0m: 'tuple' object does not support item assignment"
     ]
    }
   ],
   "source": [
    "tup1[3] = \"maza\""
   ]
  },
  {
   "cell_type": "code",
   "execution_count": 95,
   "id": "2715f194-c730-4d51-a576-7673a4906647",
   "metadata": {},
   "outputs": [
    {
     "data": {
      "text/plain": [
       "1"
      ]
     },
     "execution_count": 95,
     "metadata": {},
     "output_type": "execute_result"
    }
   ],
   "source": [
    "tup1.count(\"apple\")"
   ]
  },
  {
   "cell_type": "code",
   "execution_count": 96,
   "id": "341f26c4-7250-41a2-afb7-8da4a7f1152e",
   "metadata": {},
   "outputs": [
    {
     "data": {
      "text/plain": [
       "1"
      ]
     },
     "execution_count": 96,
     "metadata": {},
     "output_type": "execute_result"
    }
   ],
   "source": [
    "tup1.index(\"cherry\")"
   ]
  },
  {
   "cell_type": "code",
   "execution_count": null,
   "id": "b1d498b9-b99f-46cf-b878-a850ff8b4fda",
   "metadata": {},
   "outputs": [],
   "source": []
  }
 ],
 "metadata": {
  "kernelspec": {
   "display_name": "Python 3 (ipykernel)",
   "language": "python",
   "name": "python3"
  },
  "language_info": {
   "codemirror_mode": {
    "name": "ipython",
    "version": 3
   },
   "file_extension": ".py",
   "mimetype": "text/x-python",
   "name": "python",
   "nbconvert_exporter": "python",
   "pygments_lexer": "ipython3",
   "version": "3.11.7"
  }
 },
 "nbformat": 4,
 "nbformat_minor": 5
}
